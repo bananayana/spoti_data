{
 "cells": [
  {
   "cell_type": "code",
   "execution_count": 1,
   "id": "stuffed-visiting",
   "metadata": {},
   "outputs": [],
   "source": [
    "import warnings\n",
    "import matplotlib.pyplot as plt\n",
    "import numpy as np\n",
    "import pandas as pd\n",
    "import pandas_profiling\n",
    "from IPython.display import display\n",
    "\n",
    "plt.style.use(\"seaborn-pastel\")\n",
    "plt.rcParams['figure.figsize'] = (10, 7)"
   ]
  },
  {
   "cell_type": "code",
   "execution_count": 2,
   "id": "genetic-neighbor",
   "metadata": {},
   "outputs": [],
   "source": [
    "df = pd.read_csv('data/streaming_history.csv', parse_dates=['endTime'])\n",
    "tracks_df = pd.read_csv('data/tracks.csv', parse_dates=['album_release_date'])\n",
    "features_df = pd.read_csv('data/features.csv')\n",
    "\n",
    "df.dropna(inplace=True)\n",
    "\n",
    "df = df.merge(tracks_df, left_on='id_', right_on='id_', suffixes=('stream_', 'track_'))\\\n",
    "       .merge(features_df, left_on='id_', right_on='id_', suffixes=('stream_', 'feature_'))"
   ]
  },
  {
   "cell_type": "code",
   "execution_count": 13,
   "id": "pharmaceutical-fraction",
   "metadata": {},
   "outputs": [],
   "source": [
    "cols = [\n",
    "    'popularity', 'danceability', 'energy', 'key', 'loudness',\n",
    "    'speechiness', 'acousticness', 'instrumentalness', 'liveness',\n",
    "    'valence', 'tempo', 'time_signature'\n",
    "]"
   ]
  },
  {
   "cell_type": "code",
   "execution_count": 15,
   "id": "surprising-franklin",
   "metadata": {},
   "outputs": [],
   "source": [
    "df = df.groupby('artist+track').aggregate({col: 'min' for col in cols})"
   ]
  },
  {
   "cell_type": "code",
   "execution_count": 25,
   "id": "appreciated-porcelain",
   "metadata": {},
   "outputs": [],
   "source": [
    "norm_df = ((df - df.mean()) / df.std())"
   ]
  },
  {
   "cell_type": "code",
   "execution_count": 72,
   "id": "valued-analyst",
   "metadata": {},
   "outputs": [],
   "source": [
    "from sklearn.cluster import DBSCAN\n",
    "\n",
    "clustering = DBSCAN(eps=2.5, min_samples=3).fit(df)"
   ]
  },
  {
   "cell_type": "code",
   "execution_count": 73,
   "id": "sudden-pledge",
   "metadata": {},
   "outputs": [],
   "source": [
    "labels = pd.Series(clustering.labels_, index=df.index)"
   ]
  },
  {
   "cell_type": "code",
   "execution_count": 74,
   "id": "pleased-slovakia",
   "metadata": {},
   "outputs": [
    {
     "data": {
      "text/plain": [
       "<AxesSubplot:>"
      ]
     },
     "execution_count": 74,
     "metadata": {},
     "output_type": "execute_result"
    },
    {
     "data": {
      "image/png": "[encoded data removed]",
      "text/plain": [
       "<Figure size 720x504 with 1 Axes>"
      ]
     },
     "metadata": {
      "needs_background": "light"
     },
     "output_type": "display_data"
    }
   ],
   "source": [
    "labels[labels != -1].value_counts().plot(kind='bar')"
   ]
  },
  {
   "cell_type": "code",
   "execution_count": 76,
   "id": "matched-jones",
   "metadata": {},
   "outputs": [
    {
     "data": {
      "text/plain": [
       "['Arcis The Arcane Arts',\n",
       " 'Bent To Be Loved',\n",
       " 'CHVRCHES Gun',\n",
       " \"Charlotte Gainsbourg Ring-A-Ring O' Roses\",\n",
       " 'Chromatics Hands In The Dark',\n",
       " 'Computer Magic Fuzz',\n",
       " 'Crystal Castles 1991',\n",
       " 'Crystal Castles Crymewave - VERDUGO Remix',\n",
       " 'Crystal Castles Good Time',\n",
       " 'Crystal Castles Reckless',\n",
       " \"Dominique A J'avais oublié que tu m'aimais autant\",\n",
       " 'Franz Ferdinand Feel The Love Go',\n",
       " 'Hatari Engin Miskunn',\n",
       " 'HÆLOS Kyoto',\n",
       " 'IAMX After Every Party I Die',\n",
       " 'IAMX This Will Make You Love Again',\n",
       " 'Marie Madeleine Swimming Pool',\n",
       " 'Molecule Praïa Do Norte',\n",
       " 'Mr. Oizo The Church',\n",
       " 'Priest The Pit',\n",
       " 'Rex The Dog Do You Feel What I Feel',\n",
       " 'Róisín Murphy Narcissus - Extended Mix',\n",
       " 'Spector All The Sad Young Men',\n",
       " 'TR/ST Gone',\n",
       " 'The Dø Keep Your Lips Sealed',\n",
       " 'The Juan Maclean A Simple Design',\n",
       " 'Yeasayer Fluttering In The Floodlights',\n",
       " 'Zamilska Duel 35']"
      ]
     },
     "execution_count": 76,
     "metadata": {},
     "output_type": "execute_result"
    }
   ],
   "source": [
    "labels[labels == 14].index.tolist()"
   ]
  },
  {
   "cell_type": "code",
   "execution_count": null,
   "id": "provincial-brush",
   "metadata": {},
   "outputs": [],
   "source": []
  }
 ],
 "metadata": {
  "kernelspec": {
   "display_name": "spotify",
   "language": "python",
   "name": "spotify"
  },
  "language_info": {
   "codemirror_mode": {
    "name": "ipython",
    "version": 3
   },
   "file_extension": ".py",
   "mimetype": "text/x-python",
   "name": "python",
   "nbconvert_exporter": "python",
   "pygments_lexer": "ipython3",
   "version": "3.8.8"
  }
 },
 "nbformat": 4,
 "nbformat_minor": 5
}
