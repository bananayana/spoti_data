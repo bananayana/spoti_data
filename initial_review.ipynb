{
 "cells": [
  {
   "cell_type": "code",
   "execution_count": 1,
   "metadata": {},
   "outputs": [],
   "source": [
    "import json\n",
    "\n",
    "import matplotlib.pyplot as plt\n",
    "import numpy as np\n",
    "import pandas as pd"
   ]
  },
  {
   "cell_type": "code",
   "execution_count": 2,
   "metadata": {},
   "outputs": [],
   "source": [
    "plt.style.use(\"seaborn-pastel\")\n",
    "plt.rcParams['figure.figsize'] = (10, 7)"
   ]
  },
  {
   "cell_type": "code",
   "execution_count": 3,
   "metadata": {
    "pycharm": {
     "name": "#%%\n"
    }
   },
   "outputs": [],
   "source": [
    "with open('data/StreamingHistory0.json') as f:\n",
    "    df = pd.DataFrame(json.load(f))"
   ]
  },
  {
   "cell_type": "code",
   "execution_count": 4,
   "metadata": {},
   "outputs": [
    {
     "data": {
      "text/html": [
       "<div>\n",
       "<style scoped>\n",
       "    .dataframe tbody tr th:only-of-type {\n",
       "        vertical-align: middle;\n",
       "    }\n",
       "\n",
       "    .dataframe tbody tr th {\n",
       "        vertical-align: top;\n",
       "    }\n",
       "\n",
       "    .dataframe thead th {\n",
       "        text-align: right;\n",
       "    }\n",
       "</style>\n",
       "<table border=\"1\" class=\"dataframe\">\n",
       "  <thead>\n",
       "    <tr style=\"text-align: right;\">\n",
       "      <th></th>\n",
       "      <th>endTime</th>\n",
       "      <th>artistName</th>\n",
       "      <th>trackName</th>\n",
       "      <th>msPlayed</th>\n",
       "    </tr>\n",
       "  </thead>\n",
       "  <tbody>\n",
       "    <tr>\n",
       "      <th>0</th>\n",
       "      <td>2020-01-22 08:54</td>\n",
       "      <td>Ludwig van Beethoven</td>\n",
       "      <td>String Quartet No. 14 in C-Sharp Minor, Op. 13...</td>\n",
       "      <td>244042</td>\n",
       "    </tr>\n",
       "    <tr>\n",
       "      <th>1</th>\n",
       "      <td>2020-01-22 09:00</td>\n",
       "      <td>Ludwig van Beethoven</td>\n",
       "      <td>String Quartet No. 14 in C-Sharp Minor, Op. 13...</td>\n",
       "      <td>155099</td>\n",
       "    </tr>\n",
       "    <tr>\n",
       "      <th>2</th>\n",
       "      <td>2020-01-22 09:03</td>\n",
       "      <td>François Couperin</td>\n",
       "      <td>Sœur Monique: 18ème ordre, 3ème livre</td>\n",
       "      <td>188100</td>\n",
       "    </tr>\n",
       "    <tr>\n",
       "      <th>3</th>\n",
       "      <td>2020-01-22 09:06</td>\n",
       "      <td>Ludwig van Beethoven</td>\n",
       "      <td>Septet in E-Flat Major, Op. 20: III. Tempo di ...</td>\n",
       "      <td>189863</td>\n",
       "    </tr>\n",
       "    <tr>\n",
       "      <th>4</th>\n",
       "      <td>2020-01-22 09:09</td>\n",
       "      <td>Ludwig van Beethoven</td>\n",
       "      <td>Piano Sonata No.20 in G Major, Op. 49 No.2: II...</td>\n",
       "      <td>180111</td>\n",
       "    </tr>\n",
       "    <tr>\n",
       "      <th>...</th>\n",
       "      <td>...</td>\n",
       "      <td>...</td>\n",
       "      <td>...</td>\n",
       "      <td>...</td>\n",
       "    </tr>\n",
       "    <tr>\n",
       "      <th>9590</th>\n",
       "      <td>2021-01-22 15:23</td>\n",
       "      <td>Primal Scream</td>\n",
       "      <td>Kill All Hippies</td>\n",
       "      <td>297350</td>\n",
       "    </tr>\n",
       "    <tr>\n",
       "      <th>9591</th>\n",
       "      <td>2021-01-22 15:28</td>\n",
       "      <td>Lalalar</td>\n",
       "      <td>İsyanlar - Radio Edit</td>\n",
       "      <td>280107</td>\n",
       "    </tr>\n",
       "    <tr>\n",
       "      <th>9592</th>\n",
       "      <td>2021-01-22 15:32</td>\n",
       "      <td>Caro</td>\n",
       "      <td>Closet Lunatic</td>\n",
       "      <td>246610</td>\n",
       "    </tr>\n",
       "    <tr>\n",
       "      <th>9593</th>\n",
       "      <td>2021-01-22 15:35</td>\n",
       "      <td>King Dude</td>\n",
       "      <td>Be Free</td>\n",
       "      <td>177861</td>\n",
       "    </tr>\n",
       "    <tr>\n",
       "      <th>9594</th>\n",
       "      <td>2021-01-22 15:39</td>\n",
       "      <td>Electroforez</td>\n",
       "      <td>Русская принцесса</td>\n",
       "      <td>231857</td>\n",
       "    </tr>\n",
       "  </tbody>\n",
       "</table>\n",
       "<p>9595 rows × 4 columns</p>\n",
       "</div>"
      ],
      "text/plain": [
       "               endTime            artistName  \\\n",
       "0     2020-01-22 08:54  Ludwig van Beethoven   \n",
       "1     2020-01-22 09:00  Ludwig van Beethoven   \n",
       "2     2020-01-22 09:03     François Couperin   \n",
       "3     2020-01-22 09:06  Ludwig van Beethoven   \n",
       "4     2020-01-22 09:09  Ludwig van Beethoven   \n",
       "...                ...                   ...   \n",
       "9590  2021-01-22 15:23         Primal Scream   \n",
       "9591  2021-01-22 15:28               Lalalar   \n",
       "9592  2021-01-22 15:32                  Caro   \n",
       "9593  2021-01-22 15:35             King Dude   \n",
       "9594  2021-01-22 15:39          Electroforez   \n",
       "\n",
       "                                              trackName  msPlayed  \n",
       "0     String Quartet No. 14 in C-Sharp Minor, Op. 13...    244042  \n",
       "1     String Quartet No. 14 in C-Sharp Minor, Op. 13...    155099  \n",
       "2                 Sœur Monique: 18ème ordre, 3ème livre    188100  \n",
       "3     Septet in E-Flat Major, Op. 20: III. Tempo di ...    189863  \n",
       "4     Piano Sonata No.20 in G Major, Op. 49 No.2: II...    180111  \n",
       "...                                                 ...       ...  \n",
       "9590                                   Kill All Hippies    297350  \n",
       "9591                              İsyanlar - Radio Edit    280107  \n",
       "9592                                     Closet Lunatic    246610  \n",
       "9593                                            Be Free    177861  \n",
       "9594                                  Русская принцесса    231857  \n",
       "\n",
       "[9595 rows x 4 columns]"
      ]
     },
     "execution_count": 4,
     "metadata": {},
     "output_type": "execute_result"
    }
   ],
   "source": [
    "df"
   ]
  },
  {
   "cell_type": "code",
   "execution_count": 5,
   "metadata": {},
   "outputs": [],
   "source": [
    "df['endTime'] = df.endTime.apply(pd.Timestamp) + pd.offsets.DateOffset(hours=3)"
   ]
  },
  {
   "cell_type": "code",
   "execution_count": 6,
   "metadata": {},
   "outputs": [
    {
     "data": {
      "text/plain": [
       "<AxesSubplot:xlabel='endTime'>"
      ]
     },
     "execution_count": 6,
     "metadata": {},
     "output_type": "execute_result"
    },
    {
     "data": {
      "image/png": "[encoded data removed]",
      "text/plain": [
       "<Figure size 720x504 with 1 Axes>"
      ]
     },
     "metadata": {
      "needs_background": "light"
     },
     "output_type": "display_data"
    }
   ],
   "source": [
    "df.groupby(df.endTime.dt.hour)[\"endTime\"].count().plot(kind='bar', rot=0)"
   ]
  },
  {
   "cell_type": "code",
   "execution_count": 7,
   "metadata": {},
   "outputs": [],
   "source": [
    "@np.vectorize\n",
    "def sort_key_day_of_week_names(name):\n",
    "    return pd._libs.tslibs.fields.DAYS_FULL.index(name)\n",
    "\n",
    "@np.vectorize\n",
    "def sort_key_month_names(name):\n",
    "    return pd._libs.tslibs.fields.MONTHS_FULL.index(name)"
   ]
  },
  {
   "cell_type": "code",
   "execution_count": 8,
   "metadata": {},
   "outputs": [
    {
     "data": {
      "text/plain": [
       "<AxesSubplot:xlabel='endTime'>"
      ]
     },
     "execution_count": 8,
     "metadata": {},
     "output_type": "execute_result"
    },
    {
     "data": {
      "image/png": "[encoded data removed]",
      "text/plain": [
       "<Figure size 720x504 with 1 Axes>"
      ]
     },
     "metadata": {
      "needs_background": "light"
     },
     "output_type": "display_data"
    }
   ],
   "source": [
    "df.groupby(df.endTime.dt.day_name(locale='en_GB.UTF-8'))[\"endTime\"].count()\\\n",
    ".sort_index(key=sort_key_day_of_week_names)\\\n",
    ".plot(kind='bar', rot=0)"
   ]
  },
  {
   "cell_type": "code",
   "execution_count": 9,
   "metadata": {},
   "outputs": [
    {
     "data": {
      "text/plain": [
       "<AxesSubplot:xlabel='endTime'>"
      ]
     },
     "execution_count": 9,
     "metadata": {},
     "output_type": "execute_result"
    },
    {
     "data": {
      "image/png": "[encoded data removed]",
      "text/plain": [
       "<Figure size 720x504 with 1 Axes>"
      ]
     },
     "metadata": {
      "needs_background": "light"
     },
     "output_type": "display_data"
    }
   ],
   "source": [
    "df.groupby(df.endTime.dt.day)[\"endTime\"].count().plot(kind='bar', rot=0)"
   ]
  },
  {
   "cell_type": "code",
   "execution_count": 10,
   "metadata": {},
   "outputs": [
    {
     "data": {
      "text/plain": [
       "<AxesSubplot:xlabel='endTime'>"
      ]
     },
     "execution_count": 10,
     "metadata": {},
     "output_type": "execute_result"
    },
    {
     "data": {
      "image/png": "[encoded data removed]",
      "text/plain": [
       "<Figure size 720x504 with 1 Axes>"
      ]
     },
     "metadata": {
      "needs_background": "light"
     },
     "output_type": "display_data"
    }
   ],
   "source": [
    "df.groupby(df.endTime.dt.month_name(locale='en_GB.UTF-8'))[\"endTime\"].count()\\\n",
    ".sort_index(key=sort_key_month_names)\\\n",
    ".plot(kind='bar', rot=-30)"
   ]
  }
 ],
 "metadata": {
  "kernelspec": {
   "display_name": "spotify",
   "language": "python",
   "name": "spotify"
  },
  "language_info": {
   "codemirror_mode": {
    "name": "ipython",
    "version": 3
   },
   "file_extension": ".py",
   "mimetype": "text/x-python",
   "name": "python",
   "nbconvert_exporter": "python",
   "pygments_lexer": "ipython3",
   "version": "3.8.5"
  }
 },
 "nbformat": 4,
 "nbformat_minor": 1
}